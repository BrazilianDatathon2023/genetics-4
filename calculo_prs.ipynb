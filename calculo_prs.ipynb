{
 "cells": [
  {
   "cell_type": "markdown",
   "id": "d3eb0fef",
   "metadata": {},
   "source": [
    "### Importacao de bibliotecas"
   ]
  },
  {
   "cell_type": "code",
   "execution_count": 1,
   "id": "b653b61f",
   "metadata": {},
   "outputs": [],
   "source": [
    "import pandas as pd\n",
    "import boto3\n",
    "import seaborn as sns\n",
    "import numpy as np"
   ]
  },
  {
   "cell_type": "markdown",
   "id": "7645b1ea",
   "metadata": {},
   "source": [
    "### Carregamento dos dados"
   ]
  },
  {
   "cell_type": "code",
   "execution_count": 2,
   "id": "c8bc8700",
   "metadata": {},
   "outputs": [],
   "source": [
    "s3 = boto3.client('s3')"
   ]
  },
  {
   "cell_type": "code",
   "execution_count": 3,
   "id": "8480b599",
   "metadata": {},
   "outputs": [],
   "source": [
    "obj = s3.get_object(Bucket=\"arquivos-equipe04\", Key=\"target_cohort.vcf.gz\")\n",
    "\n",
    "rows = []\n",
    "for line in obj[\"Body\"].iter_lines():\n",
    "    line = line.decode(\"utf-8\").split('\\t')\n",
    "    rows.append(line)"
   ]
  },
  {
   "cell_type": "code",
   "execution_count": 4,
   "id": "1e4fa3e7",
   "metadata": {},
   "outputs": [],
   "source": [
    "vcf = pd.DataFrame(rows)"
   ]
  },
  {
   "cell_type": "code",
   "execution_count": 5,
   "id": "699b58c4",
   "metadata": {},
   "outputs": [],
   "source": [
    "vcf = vcf.dropna()\n",
    "vcf.columns = vcf.loc[3397]\n",
    "vcf = vcf.drop(vcf.index[0])"
   ]
  },
  {
   "cell_type": "code",
   "execution_count": 7,
   "id": "4f616f35",
   "metadata": {},
   "outputs": [],
   "source": [
    "for col in [x for x in vcf.columns if x.startswith('Sample')]:\n",
    "    vcf[col] = [line[0] for line in vcf[col].str.split(':')]"
   ]
  },
  {
   "cell_type": "code",
   "execution_count": 3,
   "id": "1d2e4a0b",
   "metadata": {},
   "outputs": [],
   "source": [
    "#vcf.to_csv('target_cohort_processed.csv')\n",
    "df38 = pd.read_table('s3://arquivos-equipe04/PGS002296_hmPOS_GRCh38.tsv')\n",
    "df37 = pd.read_csv('s3://arquivos-equipe04/PGS002296_hmPOS_GRCh37.txt', sep='\\t', skiprows=19)\n",
    "functional = pd.read_table('s3://arquivos-equipe04/snps-functional-classification.tsv')\n",
    "phenotype = pd.read_table('s3://arquivos-equipe04/datathon-pheno.tsv')\n",
    "snps =  pd.read_table('s3://arquivos-equipe04/ld-snps.tsv')\n",
    "vcf = pd.read_csv(\"s3://arquivos-equipe04/target_cohort_processed.vcf\")"
   ]
  },
  {
   "cell_type": "code",
   "execution_count": 4,
   "id": "de46ab58",
   "metadata": {},
   "outputs": [],
   "source": [
    "vsf_original = pd.read_table('s3://arquivos-equipe04/target_cohort_original.csv',sep=\",\")"
   ]
  },
  {
   "cell_type": "markdown",
   "id": "bd076edb",
   "metadata": {},
   "source": [
    "### Calculo do PRS para populacao brasileira"
   ]
  },
  {
   "cell_type": "markdown",
   "id": "51541620",
   "metadata": {},
   "source": [
    "#### Funcoes "
   ]
  },
  {
   "cell_type": "code",
   "execution_count": 34,
   "id": "83e44004",
   "metadata": {},
   "outputs": [],
   "source": [
    "def load_effect_sizes(effect_sizes):\n",
    "    \"\"\"Get effect size for each variant\"\"\"\n",
    "    # Example: load_effect_sizes(\"resources/prs-scores-PGS002296.tsv\")\n",
    "    effect_sizes = effect_sizes[['chr', 'pos_hg38', 'effect_allele', 'effect_weight']]\n",
    "    effect_sizes['chr'] = effect_sizes['chr'].astype(str)\n",
    "    effect_sizes['pos_hg38'] = effect_sizes['pos_hg38'].astype(int)\n",
    "    effect_sizes['locus'] = effect_sizes['chr'].astype(str) + ':' + effect_sizes['pos_hg38'].astype(str) # pylint: disable=line-too-long\n",
    "    effect_sizes_dict = effect_sizes[['locus', 'effect_weight', 'effect_allele']].set_index('locus').T.to_dict() # pylint: disable=line-too-long\n",
    "\n",
    "    return effect_sizes_dict"
   ]
  },
  {
   "cell_type": "code",
   "execution_count": 35,
   "id": "d3578633",
   "metadata": {},
   "outputs": [],
   "source": [
    "def calc_vcf_prs(vcf_filename: str, risk_alleles_weight: dict) -> dict:\n",
    "    \"\"\"\n",
    "    Calculate PRS of each sample by multiplying the effect_size (weight) by the number of risk alleles\n",
    "    \n",
    "    Args:\n",
    "        vcf_filename (str): path to the VCF file;\n",
    "        risk_alleles_weight (dict): dictionary as follows\n",
    "        {'chr1:959139': {'weight': 0.05, 'risk_allele': 'G'},\n",
    "        'chr1:1127258': {'weight': -0.016, 'risk_allele': 'C'},\n",
    "        'chr1:1748780': {'weight': 0.021, 'risk_allele': 'G'},\n",
    "        'chr1:2115499': {'weight': -0.019, 'risk_allele': 'G'}} \n",
    "    \n",
    "    Returns:\n",
    "        dict: as follows\n",
    "        {'Sample_01': 2.3,\n",
    "        'Sample_02': -4.5,\n",
    "        'Sample_03': -2.8,\n",
    "        'Sample_04': 3.6,\n",
    "        'Sample_05': 5.17\n",
    "        }   \n",
    "    \"\"\"\n",
    "    \n",
    "\n",
    "    got_header = False\n",
    "    prs_sum = []\n",
    "    with open(vcf_filename, 'r') as vcf_file:\n",
    "        for raw_line in vcf_file:\n",
    "            line = raw_line.split('\\t')\n",
    "\n",
    "            # Skip commentaries\n",
    "            if raw_line[0:2] == '##':\n",
    "                continue\n",
    "\n",
    "            if not got_header:\n",
    "                # get headers\n",
    "                vcf_names = [x.strip() for x in line]\n",
    "                vcf_names[0] = 'CHROM'\n",
    "\n",
    "\n",
    "                index_chr = vcf_names.index('CHROM')\n",
    "                index_pos = vcf_names.index('POS')\n",
    "\n",
    "                got_header = True\n",
    "\n",
    "            else:\n",
    "                prs_sum = process_line(\n",
    "                    line, vcf_names, risk_alleles_weight,\n",
    "                    index_chr, index_pos, prs_sum)\n",
    "\n",
    "\n",
    "    sample_names = vcf_names[9::]\n",
    "    return dict(zip(sample_names, [ round(x, 5) for x in prs_sum ]))\n",
    "\n",
    "def process_line(line, vcf_names, risk_alleles_weight, index_chr, index_pos, prs_sum): # pylint: disable=line-too-long\n",
    "    \"\"\"Calculate PRS sum for all samples\"\"\"\n",
    "    locus = line[index_chr]+\":\"+line[index_pos]\n",
    "\n",
    "    try:\n",
    "        risk_variant_locus = risk_alleles_weight[locus]['weight']\n",
    "        risk_allele = risk_alleles_weight[locus]['risk_allele']\n",
    "\n",
    "        # get risk_allele index\n",
    "        risk_allele_index = get_effect_risk_index(line, risk_allele, vcf_names)\n",
    "\n",
    "        n_samples = len(vcf_names)\n",
    "\n",
    "        sample_effects = [\n",
    "            sum_risk_allele_index(\n",
    "                sample_genotype = x.split(\":\")[0],\n",
    "                risk_allele_index = risk_allele_index,\n",
    "                risk_variant_locus = risk_variant_locus) for x in line[9:n_samples]\n",
    "        ]\n",
    "\n",
    "        return add_sample_effect(sample_effects, prs_sum)\n",
    "\n",
    "    except KeyError:\n",
    "        print(f\"Variant {locus} present in VCF is not present in PRS file\")\n",
    "\n",
    "        return prs_sum\n",
    "\n",
    "def add_sample_effect(values_to_add, prs_sum):\n",
    "    \"\"\"Create sum of PRS of each sample\"\"\"\n",
    "    if prs_sum == []:\n",
    "        new_sum = values_to_add\n",
    "    else:\n",
    "        new_sum = [x + y for x, y in zip(values_to_add, prs_sum)]\n",
    "\n",
    "    return new_sum\n",
    "\n",
    "\n",
    "def sum_risk_allele_index(sample_genotype, risk_allele_index, risk_variant_locus):\n",
    "    \"\"\"Calc additive model\"\"\"\n",
    "    return sample_genotype.count(str(risk_allele_index)) * risk_variant_locus\n",
    "\n",
    "def get_effect_risk_index(line, risk_allele, vcf_names):\n",
    "    \"\"\"Get GT index for risk allele\"\"\"\n",
    "    try:\n",
    "        risk_allele_index = line[vcf_names.index('ALT')].split(\",\").index(risk_allele) + 1\n",
    "    except ValueError:\n",
    "        risk_allele_index = -1\n",
    "\n",
    "    # if risk allele is are the reference allele\n",
    "    if line[vcf_names.index('REF')] == risk_allele:\n",
    "        risk_allele_index =  0\n",
    "\n",
    "    return risk_allele_index"
   ]
  },
  {
   "cell_type": "markdown",
   "id": "89b08421",
   "metadata": {},
   "source": [
    "#### Calculo de efeitos por variante"
   ]
  },
  {
   "cell_type": "code",
   "execution_count": 16,
   "id": "b9adaef7",
   "metadata": {},
   "outputs": [
    {
     "name": "stderr",
     "output_type": "stream",
     "text": [
      "/tmp/ipykernel_13117/2241656604.py:5: SettingWithCopyWarning: \n",
      "A value is trying to be set on a copy of a slice from a DataFrame.\n",
      "Try using .loc[row_indexer,col_indexer] = value instead\n",
      "\n",
      "See the caveats in the documentation: https://pandas.pydata.org/pandas-docs/stable/user_guide/indexing.html#returning-a-view-versus-a-copy\n",
      "  effect_sizes['chr'] = effect_sizes['chr'].astype(str)\n",
      "/tmp/ipykernel_13117/2241656604.py:6: SettingWithCopyWarning: \n",
      "A value is trying to be set on a copy of a slice from a DataFrame.\n",
      "Try using .loc[row_indexer,col_indexer] = value instead\n",
      "\n",
      "See the caveats in the documentation: https://pandas.pydata.org/pandas-docs/stable/user_guide/indexing.html#returning-a-view-versus-a-copy\n",
      "  effect_sizes['pos_hg38'] = effect_sizes['pos_hg38'].astype(int)\n",
      "/tmp/ipykernel_13117/2241656604.py:7: SettingWithCopyWarning: \n",
      "A value is trying to be set on a copy of a slice from a DataFrame.\n",
      "Try using .loc[row_indexer,col_indexer] = value instead\n",
      "\n",
      "See the caveats in the documentation: https://pandas.pydata.org/pandas-docs/stable/user_guide/indexing.html#returning-a-view-versus-a-copy\n",
      "  effect_sizes['locus'] = effect_sizes['chr'].astype(str) + ':' + effect_sizes['pos_hg38'].astype(str) # pylint: disable=line-too-long\n"
     ]
    }
   ],
   "source": [
    "effect_size = load_effect_sizes(df38)"
   ]
  },
  {
   "cell_type": "markdown",
   "id": "79f0228e",
   "metadata": {},
   "source": [
    "#### Calculo do PRS"
   ]
  },
  {
   "cell_type": "code",
   "execution_count": 5,
   "id": "84119023",
   "metadata": {},
   "outputs": [],
   "source": [
    "df_prs = pd.read_table('s3://arquivos-equipe04/prs_processed.csv',sep=\",\")"
   ]
  },
  {
   "cell_type": "code",
   "execution_count": 6,
   "id": "8ebbe68c",
   "metadata": {},
   "outputs": [],
   "source": [
    "vcf = vcf.merge(df38[[\"rsID\",\"pos_hg38\"]], left_on = \"POS\", right_on = \"pos_hg38\")"
   ]
  },
  {
   "cell_type": "code",
   "execution_count": 7,
   "id": "d08c2840",
   "metadata": {},
   "outputs": [],
   "source": [
    "vcf = vcf.drop(\"pos_hg38\", axis =1)"
   ]
  },
  {
   "cell_type": "code",
   "execution_count": 8,
   "id": "fe3d202c",
   "metadata": {},
   "outputs": [
    {
     "data": {
      "text/html": [
       "<div>\n",
       "<style scoped>\n",
       "    .dataframe tbody tr th:only-of-type {\n",
       "        vertical-align: middle;\n",
       "    }\n",
       "\n",
       "    .dataframe tbody tr th {\n",
       "        vertical-align: top;\n",
       "    }\n",
       "\n",
       "    .dataframe thead th {\n",
       "        text-align: right;\n",
       "    }\n",
       "</style>\n",
       "<table border=\"1\" class=\"dataframe\">\n",
       "  <thead>\n",
       "    <tr style=\"text-align: right;\">\n",
       "      <th></th>\n",
       "      <th>#CHROM</th>\n",
       "      <th>POS</th>\n",
       "      <th>Sample_01</th>\n",
       "      <th>Sample_02</th>\n",
       "      <th>Sample_03</th>\n",
       "      <th>Sample_04</th>\n",
       "      <th>Sample_05</th>\n",
       "      <th>Sample_06</th>\n",
       "      <th>Sample_07</th>\n",
       "      <th>Sample_08</th>\n",
       "      <th>...</th>\n",
       "      <th>Sample_1316</th>\n",
       "      <th>Sample_1317</th>\n",
       "      <th>Sample_1318</th>\n",
       "      <th>Sample_1319</th>\n",
       "      <th>Sample_1320</th>\n",
       "      <th>Sample_1321</th>\n",
       "      <th>Sample_1322</th>\n",
       "      <th>Sample_1323</th>\n",
       "      <th>Sample_1324</th>\n",
       "      <th>rsID</th>\n",
       "    </tr>\n",
       "  </thead>\n",
       "  <tbody>\n",
       "    <tr>\n",
       "      <th>0</th>\n",
       "      <td>chr1</td>\n",
       "      <td>959139</td>\n",
       "      <td>0/1</td>\n",
       "      <td>0/0</td>\n",
       "      <td>0/0</td>\n",
       "      <td>0/1</td>\n",
       "      <td>0/0</td>\n",
       "      <td>0/0</td>\n",
       "      <td>0/0</td>\n",
       "      <td>0/0</td>\n",
       "      <td>...</td>\n",
       "      <td>0/0</td>\n",
       "      <td>0/0</td>\n",
       "      <td>0/0</td>\n",
       "      <td>0/0</td>\n",
       "      <td>0/0</td>\n",
       "      <td>0/0</td>\n",
       "      <td>0/0</td>\n",
       "      <td>0/0</td>\n",
       "      <td>0/0</td>\n",
       "      <td>rs115438739</td>\n",
       "    </tr>\n",
       "    <tr>\n",
       "      <th>1</th>\n",
       "      <td>chr1</td>\n",
       "      <td>1127258</td>\n",
       "      <td>0/1</td>\n",
       "      <td>0/1</td>\n",
       "      <td>1/1</td>\n",
       "      <td>0/0</td>\n",
       "      <td>1/1</td>\n",
       "      <td>0/1</td>\n",
       "      <td>0/1</td>\n",
       "      <td>0/0</td>\n",
       "      <td>...</td>\n",
       "      <td>0/0</td>\n",
       "      <td>0/1</td>\n",
       "      <td>1/1</td>\n",
       "      <td>0/1</td>\n",
       "      <td>1/1</td>\n",
       "      <td>0/1</td>\n",
       "      <td>0/1</td>\n",
       "      <td>1/1</td>\n",
       "      <td>0/1</td>\n",
       "      <td>rs9442373</td>\n",
       "    </tr>\n",
       "    <tr>\n",
       "      <th>2</th>\n",
       "      <td>chr1</td>\n",
       "      <td>1748780</td>\n",
       "      <td>0/0</td>\n",
       "      <td>0/0</td>\n",
       "      <td>0/0</td>\n",
       "      <td>0/0</td>\n",
       "      <td>0/1</td>\n",
       "      <td>0/0</td>\n",
       "      <td>1/1</td>\n",
       "      <td>0/0</td>\n",
       "      <td>...</td>\n",
       "      <td>1/1</td>\n",
       "      <td>0/0</td>\n",
       "      <td>0/1</td>\n",
       "      <td>0/0</td>\n",
       "      <td>0/0</td>\n",
       "      <td>0/1</td>\n",
       "      <td>0/1</td>\n",
       "      <td>0/0</td>\n",
       "      <td>0/1</td>\n",
       "      <td>rs1014988</td>\n",
       "    </tr>\n",
       "    <tr>\n",
       "      <th>3</th>\n",
       "      <td>chr1</td>\n",
       "      <td>2115499</td>\n",
       "      <td>0/1</td>\n",
       "      <td>0/1</td>\n",
       "      <td>0/1</td>\n",
       "      <td>1/1</td>\n",
       "      <td>0/1</td>\n",
       "      <td>0/1</td>\n",
       "      <td>0/0</td>\n",
       "      <td>0/1</td>\n",
       "      <td>...</td>\n",
       "      <td>1/1</td>\n",
       "      <td>0/1</td>\n",
       "      <td>0/1</td>\n",
       "      <td>0/1</td>\n",
       "      <td>0/1</td>\n",
       "      <td>1/1</td>\n",
       "      <td>1/1</td>\n",
       "      <td>0/1</td>\n",
       "      <td>0/1</td>\n",
       "      <td>rs3128339</td>\n",
       "    </tr>\n",
       "    <tr>\n",
       "      <th>4</th>\n",
       "      <td>chr1</td>\n",
       "      <td>3014876</td>\n",
       "      <td>0/0</td>\n",
       "      <td>0/0</td>\n",
       "      <td>0/1</td>\n",
       "      <td>0/0</td>\n",
       "      <td>0/1</td>\n",
       "      <td>0/0</td>\n",
       "      <td>0/0</td>\n",
       "      <td>0/0</td>\n",
       "      <td>...</td>\n",
       "      <td>0/0</td>\n",
       "      <td>0/0</td>\n",
       "      <td>0/0</td>\n",
       "      <td>0/0</td>\n",
       "      <td>0/0</td>\n",
       "      <td>0/0</td>\n",
       "      <td>0/0</td>\n",
       "      <td>0/0</td>\n",
       "      <td>0/1</td>\n",
       "      <td>rs4486390</td>\n",
       "    </tr>\n",
       "    <tr>\n",
       "      <th>...</th>\n",
       "      <td>...</td>\n",
       "      <td>...</td>\n",
       "      <td>...</td>\n",
       "      <td>...</td>\n",
       "      <td>...</td>\n",
       "      <td>...</td>\n",
       "      <td>...</td>\n",
       "      <td>...</td>\n",
       "      <td>...</td>\n",
       "      <td>...</td>\n",
       "      <td>...</td>\n",
       "      <td>...</td>\n",
       "      <td>...</td>\n",
       "      <td>...</td>\n",
       "      <td>...</td>\n",
       "      <td>...</td>\n",
       "      <td>...</td>\n",
       "      <td>...</td>\n",
       "      <td>...</td>\n",
       "      <td>...</td>\n",
       "      <td>...</td>\n",
       "    </tr>\n",
       "    <tr>\n",
       "      <th>2160</th>\n",
       "      <td>chr22</td>\n",
       "      <td>49233964</td>\n",
       "      <td>1/1</td>\n",
       "      <td>0/0</td>\n",
       "      <td>0/1</td>\n",
       "      <td>1/1</td>\n",
       "      <td>0/1</td>\n",
       "      <td>1/1</td>\n",
       "      <td>1/1</td>\n",
       "      <td>0/1</td>\n",
       "      <td>...</td>\n",
       "      <td>0/1</td>\n",
       "      <td>0/0</td>\n",
       "      <td>1/1</td>\n",
       "      <td>1/1</td>\n",
       "      <td>0/1</td>\n",
       "      <td>1/1</td>\n",
       "      <td>1/1</td>\n",
       "      <td>1/1</td>\n",
       "      <td>0/1</td>\n",
       "      <td>rs6009560</td>\n",
       "    </tr>\n",
       "    <tr>\n",
       "      <th>2161</th>\n",
       "      <td>chr22</td>\n",
       "      <td>50027978</td>\n",
       "      <td>0/1</td>\n",
       "      <td>0/0</td>\n",
       "      <td>0/0</td>\n",
       "      <td>0/0</td>\n",
       "      <td>0/0</td>\n",
       "      <td>0/0</td>\n",
       "      <td>0/0</td>\n",
       "      <td>0/0</td>\n",
       "      <td>...</td>\n",
       "      <td>0/0</td>\n",
       "      <td>0/0</td>\n",
       "      <td>0/0</td>\n",
       "      <td>0/0</td>\n",
       "      <td>0/0</td>\n",
       "      <td>0/0</td>\n",
       "      <td>0/0</td>\n",
       "      <td>0/0</td>\n",
       "      <td>0/0</td>\n",
       "      <td>rs73183332</td>\n",
       "    </tr>\n",
       "    <tr>\n",
       "      <th>2162</th>\n",
       "      <td>chr22</td>\n",
       "      <td>50289363</td>\n",
       "      <td>0/1</td>\n",
       "      <td>0/1</td>\n",
       "      <td>0/1</td>\n",
       "      <td>0/1</td>\n",
       "      <td>0/0</td>\n",
       "      <td>1/1</td>\n",
       "      <td>0/1</td>\n",
       "      <td>0/1</td>\n",
       "      <td>...</td>\n",
       "      <td>0/1</td>\n",
       "      <td>1|0</td>\n",
       "      <td>0/0</td>\n",
       "      <td>0/0</td>\n",
       "      <td>0/1</td>\n",
       "      <td>0/0</td>\n",
       "      <td>1/1</td>\n",
       "      <td>1/1</td>\n",
       "      <td>0/0</td>\n",
       "      <td>rs28573806</td>\n",
       "    </tr>\n",
       "    <tr>\n",
       "      <th>2163</th>\n",
       "      <td>chr22</td>\n",
       "      <td>50376675</td>\n",
       "      <td>0/1</td>\n",
       "      <td>0/1</td>\n",
       "      <td>0/1</td>\n",
       "      <td>0/1</td>\n",
       "      <td>0/1</td>\n",
       "      <td>0/1</td>\n",
       "      <td>0/1</td>\n",
       "      <td>0/0</td>\n",
       "      <td>...</td>\n",
       "      <td>0/0</td>\n",
       "      <td>0/1</td>\n",
       "      <td>0/0</td>\n",
       "      <td>0/0</td>\n",
       "      <td>0/1</td>\n",
       "      <td>0/1</td>\n",
       "      <td>0/0</td>\n",
       "      <td>0/0</td>\n",
       "      <td>0/0</td>\n",
       "      <td>rs73188943</td>\n",
       "    </tr>\n",
       "    <tr>\n",
       "      <th>2164</th>\n",
       "      <td>chr22</td>\n",
       "      <td>50660015</td>\n",
       "      <td>0/0</td>\n",
       "      <td>1/1</td>\n",
       "      <td>0/1</td>\n",
       "      <td>0/1</td>\n",
       "      <td>1/1</td>\n",
       "      <td>0/1</td>\n",
       "      <td>0/0</td>\n",
       "      <td>1/1</td>\n",
       "      <td>...</td>\n",
       "      <td>1/1</td>\n",
       "      <td>1/1</td>\n",
       "      <td>0/1</td>\n",
       "      <td>0/1</td>\n",
       "      <td>0/1</td>\n",
       "      <td>0/1</td>\n",
       "      <td>1/1</td>\n",
       "      <td>0/1</td>\n",
       "      <td>0/0</td>\n",
       "      <td>rs9616900</td>\n",
       "    </tr>\n",
       "  </tbody>\n",
       "</table>\n",
       "<p>2165 rows × 1327 columns</p>\n",
       "</div>"
      ],
      "text/plain": [
       "     #CHROM       POS Sample_01 Sample_02 Sample_03 Sample_04 Sample_05  \\\n",
       "0      chr1    959139       0/1       0/0       0/0       0/1       0/0   \n",
       "1      chr1   1127258       0/1       0/1       1/1       0/0       1/1   \n",
       "2      chr1   1748780       0/0       0/0       0/0       0/0       0/1   \n",
       "3      chr1   2115499       0/1       0/1       0/1       1/1       0/1   \n",
       "4      chr1   3014876       0/0       0/0       0/1       0/0       0/1   \n",
       "...     ...       ...       ...       ...       ...       ...       ...   \n",
       "2160  chr22  49233964       1/1       0/0       0/1       1/1       0/1   \n",
       "2161  chr22  50027978       0/1       0/0       0/0       0/0       0/0   \n",
       "2162  chr22  50289363       0/1       0/1       0/1       0/1       0/0   \n",
       "2163  chr22  50376675       0/1       0/1       0/1       0/1       0/1   \n",
       "2164  chr22  50660015       0/0       1/1       0/1       0/1       1/1   \n",
       "\n",
       "     Sample_06 Sample_07 Sample_08  ... Sample_1316 Sample_1317 Sample_1318  \\\n",
       "0          0/0       0/0       0/0  ...         0/0         0/0         0/0   \n",
       "1          0/1       0/1       0/0  ...         0/0         0/1         1/1   \n",
       "2          0/0       1/1       0/0  ...         1/1         0/0         0/1   \n",
       "3          0/1       0/0       0/1  ...         1/1         0/1         0/1   \n",
       "4          0/0       0/0       0/0  ...         0/0         0/0         0/0   \n",
       "...        ...       ...       ...  ...         ...         ...         ...   \n",
       "2160       1/1       1/1       0/1  ...         0/1         0/0         1/1   \n",
       "2161       0/0       0/0       0/0  ...         0/0         0/0         0/0   \n",
       "2162       1/1       0/1       0/1  ...         0/1         1|0         0/0   \n",
       "2163       0/1       0/1       0/0  ...         0/0         0/1         0/0   \n",
       "2164       0/1       0/0       1/1  ...         1/1         1/1         0/1   \n",
       "\n",
       "     Sample_1319 Sample_1320 Sample_1321 Sample_1322 Sample_1323 Sample_1324  \\\n",
       "0            0/0         0/0         0/0         0/0         0/0         0/0   \n",
       "1            0/1         1/1         0/1         0/1         1/1         0/1   \n",
       "2            0/0         0/0         0/1         0/1         0/0         0/1   \n",
       "3            0/1         0/1         1/1         1/1         0/1         0/1   \n",
       "4            0/0         0/0         0/0         0/0         0/0         0/1   \n",
       "...          ...         ...         ...         ...         ...         ...   \n",
       "2160         1/1         0/1         1/1         1/1         1/1         0/1   \n",
       "2161         0/0         0/0         0/0         0/0         0/0         0/0   \n",
       "2162         0/0         0/1         0/0         1/1         1/1         0/0   \n",
       "2163         0/0         0/1         0/1         0/0         0/0         0/0   \n",
       "2164         0/1         0/1         0/1         1/1         0/1         0/0   \n",
       "\n",
       "             rsID  \n",
       "0     rs115438739  \n",
       "1       rs9442373  \n",
       "2       rs1014988  \n",
       "3       rs3128339  \n",
       "4       rs4486390  \n",
       "...           ...  \n",
       "2160    rs6009560  \n",
       "2161   rs73183332  \n",
       "2162   rs28573806  \n",
       "2163   rs73188943  \n",
       "2164    rs9616900  \n",
       "\n",
       "[2165 rows x 1327 columns]"
      ]
     },
     "execution_count": 8,
     "metadata": {},
     "output_type": "execute_result"
    }
   ],
   "source": [
    "vcf_filtrado = vcf.drop(['ID', 'REF', 'ALT', 'QUAL', 'FILTER', 'INFO', 'FORMAT'],axis=1)\n",
    "vcf_filtrado"
   ]
  },
  {
   "cell_type": "code",
   "execution_count": 9,
   "id": "bc446b08",
   "metadata": {},
   "outputs": [],
   "source": [
    "vcf_pivot = vcf_filtrado.melt(id_vars = {'#CHROM','POS', 'rsID'},var_name = \"sample\",value_name=\"alelo\")"
   ]
  },
  {
   "cell_type": "code",
   "execution_count": 15,
   "id": "fcda2ec5",
   "metadata": {},
   "outputs": [
    {
     "name": "stderr",
     "output_type": "stream",
     "text": [
      "/tmp/ipykernel_21659/3962370116.py:1: FutureWarning: The default value of regex will change from True to False in a future version. In addition, single character regular expressions will *not* be treated as literal strings when regex=True.\n",
      "  vcf_pivot[\"alelo\"] = vcf_pivot.alelo.str.replace(\"|\",\"/\")\n"
     ]
    }
   ],
   "source": [
    "vcf_pivot[\"alelo\"] = vcf_pivot.alelo.str.replace(\"|\",\"/\")"
   ]
  },
  {
   "cell_type": "code",
   "execution_count": 17,
   "id": "30f7f0e3",
   "metadata": {},
   "outputs": [],
   "source": [
    "vcf_pivot = vcf_pivot[vcf_pivot.alelo != \"./.\"]"
   ]
  },
  {
   "cell_type": "code",
   "execution_count": 18,
   "id": "d78306b3",
   "metadata": {},
   "outputs": [],
   "source": [
    "table = pd.pivot_table(vcf_pivot, values='alelo', index=['sample'],\n",
    "                       columns=['rsID'], aggfunc=\"first\")"
   ]
  },
  {
   "cell_type": "code",
   "execution_count": 19,
   "id": "79d170bd",
   "metadata": {},
   "outputs": [],
   "source": [
    "table = table.reset_index()"
   ]
  },
  {
   "cell_type": "code",
   "execution_count": 21,
   "id": "bba58563",
   "metadata": {},
   "outputs": [],
   "source": [
    "df_prs_phenfo = df_prs.merge(phenotype, left_on = 'sample', right_on = 's')"
   ]
  },
  {
   "cell_type": "code",
   "execution_count": 22,
   "id": "efc26dfc",
   "metadata": {},
   "outputs": [],
   "source": [
    "df_pheno_table = df_prs_phenfo[[\"prs\",\"target_phenotype\",\"bmi\",\"age\",\"sex\",\"pc1\",\"pc2\",\"pc3\",\"pc4\",\"pc5\",\"sample\"]].merge(table, on = \"sample\")"
   ]
  },
  {
   "cell_type": "code",
   "execution_count": 44,
   "id": "2f0657b4",
   "metadata": {},
   "outputs": [],
   "source": [
    "df_1 = df_pheno_table[df_pheno_table.target_phenotype == 1]"
   ]
  },
  {
   "cell_type": "code",
   "execution_count": 45,
   "id": "d78d0cf6",
   "metadata": {},
   "outputs": [],
   "source": [
    "df_1 = df_1.melt(id_vars = {'prs', 'target_phenotype', 'bmi', 'age', 'sex', 'pc1', 'pc2', 'pc3','pc4', 'pc5','sample'})"
   ]
  },
  {
   "cell_type": "code",
   "execution_count": 47,
   "id": "fd806eac",
   "metadata": {},
   "outputs": [],
   "source": [
    "df_1['flag_risco'] = np.where(df_1.value.isin(['0/1','1/1']),'ALTO',np.where(df_1.value == '0/0','BAIXO','S/I'))"
   ]
  },
  {
   "cell_type": "code",
   "execution_count": 48,
   "id": "34ff480c",
   "metadata": {},
   "outputs": [
    {
     "data": {
      "text/plain": [
       "BAIXO    552\n",
       "ALTO     191\n",
       "Name: flag_risco, dtype: int64"
      ]
     },
     "execution_count": 48,
     "metadata": {},
     "output_type": "execute_result"
    }
   ],
   "source": [
    "df_1[df_1.variable == 'rs10009490'].flag_risco.value_counts()"
   ]
  },
  {
   "cell_type": "code",
   "execution_count": 49,
   "id": "5383eb82",
   "metadata": {},
   "outputs": [],
   "source": [
    "df_2 = df_pheno_table[df_pheno_table.target_phenotype == 0]"
   ]
  },
  {
   "cell_type": "code",
   "execution_count": 50,
   "id": "211ac219",
   "metadata": {},
   "outputs": [],
   "source": [
    "df_2 = df_2.melt(id_vars = {'prs', 'target_phenotype', 'bmi', 'age', 'sex', 'pc1', 'pc2', 'pc3','pc4', 'pc5','sample'})"
   ]
  },
  {
   "cell_type": "code",
   "execution_count": 51,
   "id": "f66191d3",
   "metadata": {},
   "outputs": [],
   "source": [
    "df_2['flag_risco'] = np.where(df_2.value.isin(['0/1','1/1']),'ALTO',np.where(df_2.value == '0/0','BAIXO','S/I'))"
   ]
  },
  {
   "cell_type": "code",
   "execution_count": 52,
   "id": "20e22c8a",
   "metadata": {},
   "outputs": [],
   "source": [
    "c = df_2[df_2.variable == 'rs10009490'].flag_risco.value_counts()[\"BAIXO\"]\n",
    "d = df_2[df_2.variable == 'rs10009490'].flag_risco.value_counts()[\"ALTO\"]"
   ]
  },
  {
   "cell_type": "code",
   "execution_count": 53,
   "id": "9355f178",
   "metadata": {},
   "outputs": [],
   "source": [
    "a = df_1[df_1.variable == 'rs10009490'].flag_risco.value_counts()[\"BAIXO\"]\n",
    "b = df_1[df_1.variable == 'rs10009490'].flag_risco.value_counts()[\"ALTO\"]"
   ]
  },
  {
   "cell_type": "code",
   "execution_count": 54,
   "id": "eae8e6be",
   "metadata": {},
   "outputs": [
    {
     "name": "stdout",
     "output_type": "stream",
     "text": [
      "       has  nohas\n",
      "baixo   20    380\n",
      "alto     6    594\n"
     ]
    }
   ],
   "source": [
    "# Calculando odds ratio de 'rs10009490'\n",
    "\n",
    "dct = {\n",
    "    'has': [20, 6],\n",
    "    'nohas': [380, 594],\n",
    "}\n",
    "df = pd.DataFrame(dct, index=['baixo', 'alto'])\n",
    "\n",
    "print(df)"
   ]
  },
  {
   "cell_type": "markdown",
   "id": "f85eef00",
   "metadata": {},
   "source": [
    "#### Graficos de frequencia do PRS"
   ]
  },
  {
   "cell_type": "code",
   "execution_count": 72,
   "id": "31b49f65",
   "metadata": {},
   "outputs": [],
   "source": [
    "df_prs.prs = (df_prs.prs - df_prs.prs.mean())/(df_prs.prs.std())"
   ]
  },
  {
   "cell_type": "code",
   "execution_count": 73,
   "id": "d1dd3707",
   "metadata": {},
   "outputs": [
    {
     "data": {
      "text/plain": [
       "<seaborn.axisgrid.FacetGrid at 0x7fd37b5d27a0>"
      ]
     },
     "execution_count": 73,
     "metadata": {},
     "output_type": "execute_result"
    },
    {
     "data": {
      "image/png": "[encoded data removed]",
      "text/plain": [
       "<Figure size 500x500 with 1 Axes>"
      ]
     },
     "metadata": {},
     "output_type": "display_data"
    }
   ],
   "source": [
    "sns.displot(data=df_prs, x=\"prs\", kde=True)"
   ]
  },
  {
   "cell_type": "code",
   "execution_count": 84,
   "id": "9d3cc762",
   "metadata": {},
   "outputs": [
    {
     "data": {
      "text/plain": [
       "<seaborn.axisgrid.FacetGrid at 0x7fd35894aec0>"
      ]
     },
     "execution_count": 84,
     "metadata": {},
     "output_type": "execute_result"
    },
    {
     "data": {
      "image/png": "[encoded data removed]",
      "text/plain": [
       "<Figure size 635.111x500 with 1 Axes>"
      ]
     },
     "metadata": {},
     "output_type": "display_data"
    }
   ],
   "source": [
    "sns.displot(data=df_prs_phenfo, x=\"prs\", kde=True, hue = \"target_phenotype\", bins = 10)\n"
   ]
  },
  {
   "cell_type": "markdown",
   "id": "a673bec6",
   "metadata": {},
   "source": [
    "#### Calcula odds_ratio do PRS"
   ]
  },
  {
   "cell_type": "code",
   "execution_count": 58,
   "id": "5939fe0d",
   "metadata": {},
   "outputs": [
    {
     "name": "stdout",
     "output_type": "stream",
     "text": [
      "['10%', '20%', '30%', '40%', '50%', '60%', '70%', '80%', '90%']\n",
      "[0.1, 0.2, 0.3, 0.4, 0.5, 0.6, 0.7, 0.8, 0.9]\n"
     ]
    }
   ],
   "source": [
    "from scipy.stats.contingency import odds_ratio #oddsratio\n",
    "perc = []\n",
    "for i in [i for i in range (1,10)]:\n",
    "    a = f'{i}0%'\n",
    "    perc.append(a)\n",
    "print(perc)\n",
    "res = []\n",
    "listaDecils = [i/10 for i in range(1,10)]\n",
    "print(listaDecils)\n",
    "for i in range(0,9):\n",
    "    var_corte = df_prs_phenfo.prs.describe(percentiles=[listaDecils[i]])[perc[i]]\n",
    "    df_prs_phenfo[\"flag_contingencia\"] = np.where(df_prs_phenfo.prs > var_corte, 1, 0)\n",
    "    df_prs_phenfo.flag_contingencia.value_counts()\n",
    "    a = df_prs_phenfo[(df_prs_phenfo.target_phenotype == 0) & (df_prs_phenfo.flag_contingencia ==0)].shape[0]\n",
    "    b = df_prs_phenfo[(df_prs_phenfo.target_phenotype == 1) & (df_prs_phenfo.flag_contingencia ==0)].shape[0]\n",
    "    c = df_prs_phenfo[(df_prs_phenfo.target_phenotype == 0) & (df_prs_phenfo.flag_contingencia ==1)].shape[0]\n",
    "    d = df_prs_phenfo[(df_prs_phenfo.target_phenotype == 1) & (df_prs_phenfo.flag_contingencia ==1)].shape[0]\n",
    "    tabelaCont = [[a,b],[c,d]]\n",
    "    tabelaCont = pd.DataFrame(tabelaCont, columns=[\"phen0\",\"phen1\"])\n",
    "    res.append( odds_ratio(tabelaCont, kind='conditional'))"
   ]
  },
  {
   "cell_type": "code",
   "execution_count": 60,
   "id": "3b10ffe5",
   "metadata": {},
   "outputs": [
    {
     "data": {
      "text/plain": [
       "<AxesSubplot: >"
      ]
     },
     "execution_count": 60,
     "metadata": {},
     "output_type": "execute_result"
    },
    {
     "data": {
      "image/png": "[encoded data removed]",
      "text/plain": [
       "<Figure size 640x480 with 1 Axes>"
      ]
     },
     "metadata": {},
     "output_type": "display_data"
    }
   ],
   "source": [
    "data = [i.statistic for i in res]\n",
    "sns.scatterplot(data)"
   ]
  }
 ],
 "metadata": {
  "kernelspec": {
   "display_name": "conda_python3",
   "language": "python",
   "name": "conda_python3"
  },
  "language_info": {
   "codemirror_mode": {
    "name": "ipython",
    "version": 3
   },
   "file_extension": ".py",
   "mimetype": "text/x-python",
   "name": "python",
   "nbconvert_exporter": "python",
   "pygments_lexer": "ipython3",
   "version": "3.10.8"
  }
 },
 "nbformat": 4,
 "nbformat_minor": 5
}
