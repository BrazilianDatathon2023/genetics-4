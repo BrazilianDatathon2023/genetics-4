{
 "cells": [
  {
   "cell_type": "markdown",
   "id": "d3eb0fef",
   "metadata": {},
   "source": [
    "### Importacao de bibliotecas"
   ]
  },
  {
   "cell_type": "code",
   "execution_count": 32,
   "id": "b653b61f",
   "metadata": {},
   "outputs": [],
   "source": [
    "import pandas as pd\n",
    "import boto3"
   ]
  },
  {
   "cell_type": "markdown",
   "id": "7645b1ea",
   "metadata": {},
   "source": [
    "### Carregamento dos dados"
   ]
  },
  {
   "cell_type": "code",
   "execution_count": 2,
   "id": "c8bc8700",
   "metadata": {},
   "outputs": [],
   "source": [
    "s3 = boto3.client('s3')"
   ]
  },
  {
   "cell_type": "code",
   "execution_count": 3,
   "id": "8480b599",
   "metadata": {},
   "outputs": [],
   "source": [
    "obj = s3.get_object(Bucket=\"arquivos-equipe04\", Key=\"target_cohort.vcf.gz\")\n",
    "\n",
    "rows = []\n",
    "for line in obj[\"Body\"].iter_lines():\n",
    "    line = line.decode(\"utf-8\").split('\\t')\n",
    "    rows.append(line)"
   ]
  },
  {
   "cell_type": "code",
   "execution_count": 4,
   "id": "1e4fa3e7",
   "metadata": {},
   "outputs": [],
   "source": [
    "vcf = pd.DataFrame(rows)"
   ]
  },
  {
   "cell_type": "code",
   "execution_count": 5,
   "id": "699b58c4",
   "metadata": {},
   "outputs": [],
   "source": [
    "vcf = vcf.dropna()\n",
    "vcf.columns = vcf.loc[3397]\n",
    "vcf = vcf.drop(vcf.index[0])"
   ]
  },
  {
   "cell_type": "code",
   "execution_count": 7,
   "id": "4f616f35",
   "metadata": {},
   "outputs": [],
   "source": [
    "for col in [x for x in vcf.columns if x.startswith('Sample')]:\n",
    "    vcf[col] = [line[0] for line in vcf[col].str.split(':')]"
   ]
  },
  {
   "cell_type": "code",
   "execution_count": 9,
   "id": "1d2e4a0b",
   "metadata": {},
   "outputs": [],
   "source": [
    "vcf.to_csv('target_cohort_processed.csv')"
   ]
  },
  {
   "cell_type": "code",
   "execution_count": 10,
   "id": "88be45ef",
   "metadata": {},
   "outputs": [],
   "source": [
    "df38 = pd.read_table('s3://arquivos-equipe04/PGS002296_hmPOS_GRCh38.tsv')"
   ]
  },
  {
   "cell_type": "code",
   "execution_count": 11,
   "id": "bec265d6",
   "metadata": {},
   "outputs": [],
   "source": [
    "df37 = pd.read_csv('s3://arquivos-equipe04/PGS002296_hmPOS_GRCh37.txt', sep='\\t', skiprows=19)"
   ]
  },
  {
   "cell_type": "code",
   "execution_count": 12,
   "id": "db3eb37c",
   "metadata": {},
   "outputs": [],
   "source": [
    "functional = pd.read_table('s3://arquivos-equipe04/snps-functional-classification.tsv')"
   ]
  },
  {
   "cell_type": "code",
   "execution_count": 13,
   "id": "e4298157",
   "metadata": {},
   "outputs": [],
   "source": [
    "phenotype = pd.read_table('s3://arquivos-equipe04/datathon-pheno.tsv')"
   ]
  },
  {
   "cell_type": "code",
   "execution_count": 33,
   "id": "21da2749",
   "metadata": {},
   "outputs": [],
   "source": [
    "snps =  pd.read_table('s3://arquivos-equipe04/ld-snps.tsv')"
   ]
  },
  {
   "cell_type": "code",
   "execution_count": null,
   "id": "618d16e4",
   "metadata": {},
   "outputs": [],
   "source": [
    "vcf.reset_index(drop=True,inplace=True)"
   ]
  },
  {
   "cell_type": "markdown",
   "id": "bd076edb",
   "metadata": {},
   "source": [
    "### Calculo do PRS para populacao brasileira"
   ]
  },
  {
   "cell_type": "markdown",
   "id": "51541620",
   "metadata": {},
   "source": [
    "#### Funcoes "
   ]
  },
  {
   "cell_type": "code",
   "execution_count": 34,
   "id": "83e44004",
   "metadata": {},
   "outputs": [],
   "source": [
    "def load_effect_sizes(effect_sizes):\n",
    "    \"\"\"Get effect size for each variant\"\"\"\n",
    "    # Example: load_effect_sizes(\"resources/prs-scores-PGS002296.tsv\")\n",
    "    effect_sizes = effect_sizes[['chr', 'pos_hg38', 'effect_allele', 'effect_weight']]\n",
    "    effect_sizes['chr'] = effect_sizes['chr'].astype(str)\n",
    "    effect_sizes['pos_hg38'] = effect_sizes['pos_hg38'].astype(int)\n",
    "    effect_sizes['locus'] = effect_sizes['chr'].astype(str) + ':' + effect_sizes['pos_hg38'].astype(str) # pylint: disable=line-too-long\n",
    "    effect_sizes_dict = effect_sizes[['locus', 'effect_weight', 'effect_allele']].set_index('locus').T.to_dict() # pylint: disable=line-too-long\n",
    "\n",
    "    return effect_sizes_dict"
   ]
  },
  {
   "cell_type": "code",
   "execution_count": 35,
   "id": "d3578633",
   "metadata": {},
   "outputs": [],
   "source": [
    "def calc_vcf_prs(vcf_filename: str, risk_alleles_weight: dict) -> dict:\n",
    "    \"\"\"\n",
    "    Calculate PRS of each sample by multiplying the effect_size (weight) by the number of risk alleles\n",
    "    \n",
    "    Args:\n",
    "        vcf_filename (str): path to the VCF file;\n",
    "        risk_alleles_weight (dict): dictionary as follows\n",
    "        {'chr1:959139': {'weight': 0.05, 'risk_allele': 'G'},\n",
    "        'chr1:1127258': {'weight': -0.016, 'risk_allele': 'C'},\n",
    "        'chr1:1748780': {'weight': 0.021, 'risk_allele': 'G'},\n",
    "        'chr1:2115499': {'weight': -0.019, 'risk_allele': 'G'}} \n",
    "    \n",
    "    Returns:\n",
    "        dict: as follows\n",
    "        {'Sample_01': 2.3,\n",
    "        'Sample_02': -4.5,\n",
    "        'Sample_03': -2.8,\n",
    "        'Sample_04': 3.6,\n",
    "        'Sample_05': 5.17\n",
    "        }   \n",
    "    \"\"\"\n",
    "    \n",
    "\n",
    "    got_header = False\n",
    "    prs_sum = []\n",
    "    with open(vcf_filename, 'r') as vcf_file:\n",
    "        for raw_line in vcf_file:\n",
    "            line = raw_line.split('\\t')\n",
    "\n",
    "            # Skip commentaries\n",
    "            if raw_line[0:2] == '##':\n",
    "                continue\n",
    "\n",
    "            if not got_header:\n",
    "                # get headers\n",
    "                vcf_names = [x.strip() for x in line]\n",
    "                vcf_names[0] = 'CHROM'\n",
    "\n",
    "\n",
    "                index_chr = vcf_names.index('CHROM')\n",
    "                index_pos = vcf_names.index('POS')\n",
    "\n",
    "                got_header = True\n",
    "\n",
    "            else:\n",
    "                prs_sum = process_line(\n",
    "                    line, vcf_names, risk_alleles_weight,\n",
    "                    index_chr, index_pos, prs_sum)\n",
    "\n",
    "\n",
    "    sample_names = vcf_names[9::]\n",
    "    return dict(zip(sample_names, [ round(x, 5) for x in prs_sum ]))\n",
    "\n",
    "def process_line(line, vcf_names, risk_alleles_weight, index_chr, index_pos, prs_sum): # pylint: disable=line-too-long\n",
    "    \"\"\"Calculate PRS sum for all samples\"\"\"\n",
    "    locus = line[index_chr]+\":\"+line[index_pos]\n",
    "\n",
    "    try:\n",
    "        risk_variant_locus = risk_alleles_weight[locus]['weight']\n",
    "        risk_allele = risk_alleles_weight[locus]['risk_allele']\n",
    "\n",
    "        # get risk_allele index\n",
    "        risk_allele_index = get_effect_risk_index(line, risk_allele, vcf_names)\n",
    "\n",
    "        n_samples = len(vcf_names)\n",
    "\n",
    "        sample_effects = [\n",
    "            sum_risk_allele_index(\n",
    "                sample_genotype = x.split(\":\")[0],\n",
    "                risk_allele_index = risk_allele_index,\n",
    "                risk_variant_locus = risk_variant_locus) for x in line[9:n_samples]\n",
    "        ]\n",
    "\n",
    "        return add_sample_effect(sample_effects, prs_sum)\n",
    "\n",
    "    except KeyError:\n",
    "        print(f\"Variant {locus} present in VCF is not present in PRS file\")\n",
    "\n",
    "        return prs_sum\n",
    "\n",
    "def add_sample_effect(values_to_add, prs_sum):\n",
    "    \"\"\"Create sum of PRS of each sample\"\"\"\n",
    "    if prs_sum == []:\n",
    "        new_sum = values_to_add\n",
    "    else:\n",
    "        new_sum = [x + y for x, y in zip(values_to_add, prs_sum)]\n",
    "\n",
    "    return new_sum\n",
    "\n",
    "\n",
    "def sum_risk_allele_index(sample_genotype, risk_allele_index, risk_variant_locus):\n",
    "    \"\"\"Calc additive model\"\"\"\n",
    "    return sample_genotype.count(str(risk_allele_index)) * risk_variant_locus\n",
    "\n",
    "def get_effect_risk_index(line, risk_allele, vcf_names):\n",
    "    \"\"\"Get GT index for risk allele\"\"\"\n",
    "    try:\n",
    "        risk_allele_index = line[vcf_names.index('ALT')].split(\",\").index(risk_allele) + 1\n",
    "    except ValueError:\n",
    "        risk_allele_index = -1\n",
    "\n",
    "    # if risk allele is are the reference allele\n",
    "    if line[vcf_names.index('REF')] == risk_allele:\n",
    "        risk_allele_index =  0\n",
    "\n",
    "    return risk_allele_index"
   ]
  },
  {
   "cell_type": "markdown",
   "id": "89b08421",
   "metadata": {},
   "source": [
    "#### Calculo de efeitos por variante"
   ]
  },
  {
   "cell_type": "code",
   "execution_count": 16,
   "id": "b9adaef7",
   "metadata": {},
   "outputs": [
    {
     "name": "stderr",
     "output_type": "stream",
     "text": [
      "/tmp/ipykernel_13117/2241656604.py:5: SettingWithCopyWarning: \n",
      "A value is trying to be set on a copy of a slice from a DataFrame.\n",
      "Try using .loc[row_indexer,col_indexer] = value instead\n",
      "\n",
      "See the caveats in the documentation: https://pandas.pydata.org/pandas-docs/stable/user_guide/indexing.html#returning-a-view-versus-a-copy\n",
      "  effect_sizes['chr'] = effect_sizes['chr'].astype(str)\n",
      "/tmp/ipykernel_13117/2241656604.py:6: SettingWithCopyWarning: \n",
      "A value is trying to be set on a copy of a slice from a DataFrame.\n",
      "Try using .loc[row_indexer,col_indexer] = value instead\n",
      "\n",
      "See the caveats in the documentation: https://pandas.pydata.org/pandas-docs/stable/user_guide/indexing.html#returning-a-view-versus-a-copy\n",
      "  effect_sizes['pos_hg38'] = effect_sizes['pos_hg38'].astype(int)\n",
      "/tmp/ipykernel_13117/2241656604.py:7: SettingWithCopyWarning: \n",
      "A value is trying to be set on a copy of a slice from a DataFrame.\n",
      "Try using .loc[row_indexer,col_indexer] = value instead\n",
      "\n",
      "See the caveats in the documentation: https://pandas.pydata.org/pandas-docs/stable/user_guide/indexing.html#returning-a-view-versus-a-copy\n",
      "  effect_sizes['locus'] = effect_sizes['chr'].astype(str) + ':' + effect_sizes['pos_hg38'].astype(str) # pylint: disable=line-too-long\n"
     ]
    }
   ],
   "source": [
    "effect_size = load_effect_sizes(df38)"
   ]
  },
  {
   "cell_type": "markdown",
   "id": "79f0228e",
   "metadata": {},
   "source": [
    "#### Calculo do PRS"
   ]
  },
  {
   "cell_type": "code",
   "execution_count": 18,
   "id": "54d1257f",
   "metadata": {},
   "outputs": [
    {
     "ename": "ValueError",
     "evalue": "'POS' is not in list",
     "output_type": "error",
     "traceback": [
      "\u001b[0;31m---------------------------------------------------------------------------\u001b[0m",
      "\u001b[0;31mValueError\u001b[0m                                Traceback (most recent call last)",
      "Cell \u001b[0;32mIn[18], line 1\u001b[0m\n\u001b[0;32m----> 1\u001b[0m \u001b[43mcalc_vcf_prs\u001b[49m\u001b[43m(\u001b[49m\u001b[38;5;124;43m'\u001b[39;49m\u001b[38;5;124;43mtarget_cohort_processed.csv\u001b[39;49m\u001b[38;5;124;43m'\u001b[39;49m\u001b[43m,\u001b[49m\u001b[43m \u001b[49m\u001b[43meffect_size\u001b[49m\u001b[43m)\u001b[49m\n",
      "Cell \u001b[0;32mIn[17], line 41\u001b[0m, in \u001b[0;36mcalc_vcf_prs\u001b[0;34m(vcf_filename, risk_alleles_weight)\u001b[0m\n\u001b[1;32m     37\u001b[0m     vcf_names[\u001b[38;5;241m0\u001b[39m] \u001b[38;5;241m=\u001b[39m \u001b[38;5;124m'\u001b[39m\u001b[38;5;124mCHROM\u001b[39m\u001b[38;5;124m'\u001b[39m\n\u001b[1;32m     40\u001b[0m     index_chr \u001b[38;5;241m=\u001b[39m vcf_names\u001b[38;5;241m.\u001b[39mindex(\u001b[38;5;124m'\u001b[39m\u001b[38;5;124mCHROM\u001b[39m\u001b[38;5;124m'\u001b[39m)\n\u001b[0;32m---> 41\u001b[0m     index_pos \u001b[38;5;241m=\u001b[39m \u001b[43mvcf_names\u001b[49m\u001b[38;5;241;43m.\u001b[39;49m\u001b[43mindex\u001b[49m\u001b[43m(\u001b[49m\u001b[38;5;124;43m'\u001b[39;49m\u001b[38;5;124;43mPOS\u001b[39;49m\u001b[38;5;124;43m'\u001b[39;49m\u001b[43m)\u001b[49m\n\u001b[1;32m     43\u001b[0m     got_header \u001b[38;5;241m=\u001b[39m \u001b[38;5;28;01mTrue\u001b[39;00m\n\u001b[1;32m     45\u001b[0m \u001b[38;5;28;01melse\u001b[39;00m:\n",
      "\u001b[0;31mValueError\u001b[0m: 'POS' is not in list"
     ]
    }
   ],
   "source": [
    "calc_vcf_prs('target_cohort_processed.csv', effect_size)"
   ]
  },
  {
   "cell_type": "code",
   "execution_count": null,
   "id": "84119023",
   "metadata": {},
   "outputs": [],
   "source": []
  }
 ],
 "metadata": {
  "kernelspec": {
   "display_name": "conda_python3",
   "language": "python",
   "name": "conda_python3"
  },
  "language_info": {
   "codemirror_mode": {
    "name": "ipython",
    "version": 3
   },
   "file_extension": ".py",
   "mimetype": "text/x-python",
   "name": "python",
   "nbconvert_exporter": "python",
   "pygments_lexer": "ipython3",
   "version": "3.10.8"
  }
 },
 "nbformat": 4,
 "nbformat_minor": 5
}
